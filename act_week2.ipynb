{
  "nbformat": 4,
  "nbformat_minor": 0,
  "metadata": {
    "colab": {
      "provenance": [],
      "authorship_tag": "ABX9TyPYGr2uEsjQx+J8DVFp8wEh",
      "include_colab_link": true
    },
    "kernelspec": {
      "name": "python3",
      "display_name": "Python 3"
    },
    "language_info": {
      "name": "python"
    }
  },
  "cells": [
    {
      "cell_type": "markdown",
      "metadata": {
        "id": "view-in-github",
        "colab_type": "text"
      },
      "source": [
        "<a href=\"https://colab.research.google.com/github/San-B19/SanjanaB/blob/main/act_week2.ipynb\" target=\"_parent\"><img src=\"https://colab.research.google.com/assets/colab-badge.svg\" alt=\"Open In Colab\"/></a>"
      ]
    },
    {
      "cell_type": "code",
      "execution_count": 1,
      "metadata": {
        "colab": {
          "base_uri": "https://localhost:8080/"
        },
        "id": "Y_2T-nBLyplp",
        "outputId": "ea3f1f35-d4dc-4160-b972-ec55320298db"
      },
      "outputs": [
        {
          "output_type": "stream",
          "name": "stdout",
          "text": [
            "What is your name? Sanjana\n",
            "What's your favourite colour? white\n",
            "What's your favourite food? burger\n",
            "What's your favourite hobby? baking\n",
            "Hello, Sanjana! Your favourite colour is white, you love burger, and you enjoy baking.\n"
          ]
        }
      ],
      "source": [
        "# Collect user input for preferences\n",
        "user_name = input(\"What is your name? \")\n",
        "fav_colour = input(\"What's your favourite colour? \")\n",
        "fav_food = input(\"What's your favourite food? \")\n",
        "fav_hobby = input(\"What's your favourite hobby? \")\n",
        "\n",
        "# Construct the personalised summary message\n",
        "summary = \"Hello, \" + user_name + \"! Your favourite colour is \" + fav_colour + \\\n",
        "          \", you love \" + fav_food + \", and you enjoy \" + fav_hobby + \".\"\n",
        "\n",
        "# Display the summary message\n",
        "print(summary)"
      ]
    }
  ]
}