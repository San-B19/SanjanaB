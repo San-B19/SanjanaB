{
  "nbformat": 4,
  "nbformat_minor": 0,
  "metadata": {
    "colab": {
      "provenance": [],
      "authorship_tag": "ABX9TyNGsS3QiGMNyi9G9TIgpq7f",
      "include_colab_link": true
    },
    "kernelspec": {
      "name": "python3",
      "display_name": "Python 3"
    },
    "language_info": {
      "name": "python"
    }
  },
  "cells": [
    {
      "cell_type": "markdown",
      "metadata": {
        "id": "view-in-github",
        "colab_type": "text"
      },
      "source": [
        "<a href=\"https://colab.research.google.com/github/San-B19/SanjanaB/blob/main/dictionary.ipynb\" target=\"_parent\"><img src=\"https://colab.research.google.com/assets/colab-badge.svg\" alt=\"Open In Colab\"/></a>"
      ]
    },
    {
      "cell_type": "code",
      "execution_count": 7,
      "metadata": {
        "colab": {
          "base_uri": "https://localhost:8080/"
        },
        "id": "8fs-iFob1cu7",
        "outputId": "6d25c1f8-d750-4f50-f339-b7d6045c537e"
      },
      "outputs": [
        {
          "output_type": "stream",
          "name": "stdout",
          "text": [
            "{'name': 'Alex', 'age': 25, 'city': 'New York'}\n",
            "length of dictionary: 3\n",
            "keys: dict_keys(['name', 'age', 'city'])\n",
            "values: dict_values(['Alex', 25, 'New York'])\n",
            "items: dict_items([('name', 'Alex'), ('age', 25), ('city', 'New York')])\n",
            "get 'name': Alex\n",
            "get 'country'(not in dict) : unknown\n",
            "pop 'city' : New York\n",
            "pop 'country' (not in dict) :\n",
            "updated dictionary after pop: {'name': 'Alex', 'age': 25}\n",
            "updated dictionary after update: {'name': 'Alex', 'age': '26', 'country': 'USA'}\n"
          ]
        }
      ],
      "source": [
        "person={\n",
        "    \"name\" : \"Alex\",\n",
        "    \"age\" : 25,\n",
        "    \"city\" : \"New York\"\n",
        "}\n",
        "print (person)\n",
        "\n",
        "print(\"length of dictionary:\", len(person))\n",
        "print(\"keys:\", person.keys())\n",
        "print(\"values:\", person.values())\n",
        "print(\"items:\", person.items())\n",
        "print (\"get 'name':\", person.get(\"name\"))\n",
        "print (\"get 'country'\" \"(not in dict) :\", person.get(\"country\", \"unknown\"))\n",
        "print (\"pop 'city' :\", person.pop(\"city\", \"not found\"))\n",
        "print (\"pop 'country' (not in dict) :\"), person.pop(\"country\", \"not found\")\n",
        "print (\"updated dictionary after pop:\", person)\n",
        "update_info = {\"country\": \"USA\", \"age\": \"26\"}\n",
        "person.update(update_info)\n",
        "print (\"updated dictionary after update:\", person)\n",
        "\n",
        ""
      ]
    }
  ]
}