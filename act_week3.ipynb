{
  "nbformat": 4,
  "nbformat_minor": 0,
  "metadata": {
    "colab": {
      "provenance": [],
      "authorship_tag": "ABX9TyPRhqmvrAxmgAYLQV3NQZMb",
      "include_colab_link": true
    },
    "kernelspec": {
      "name": "python3",
      "display_name": "Python 3"
    },
    "language_info": {
      "name": "python"
    }
  },
  "cells": [
    {
      "cell_type": "markdown",
      "metadata": {
        "id": "view-in-github",
        "colab_type": "text"
      },
      "source": [
        "<a href=\"https://colab.research.google.com/github/San-B19/SanjanaB/blob/main/act_week3.ipynb\" target=\"_parent\"><img src=\"https://colab.research.google.com/assets/colab-badge.svg\" alt=\"Open In Colab\"/></a>"
      ]
    },
    {
      "cell_type": "code",
      "execution_count": 1,
      "metadata": {
        "colab": {
          "base_uri": "https://localhost:8080/"
        },
        "id": "vaM26zZIzjZQ",
        "outputId": "a90a650b-9549-4f68-881c-7954a318cc27"
      },
      "outputs": [
        {
          "output_type": "stream",
          "name": "stdout",
          "text": [
            "Weather Menu:\n",
            "1. Check Temperature\n",
            "2. Check Humidity\n",
            "3. Check Wind Speed\n",
            "4. Exit\n",
            "Enter your choice (1-4): 1\n",
            "Enter the current temperature (in °C): 16\n",
            "It’s a pleasant day.\n"
          ]
        }
      ],
      "source": [
        "# Display the Weather Menu\n",
        "print(\"Weather Menu:\")\n",
        "print(\"1. Check Temperature\")\n",
        "print(\"2. Check Humidity\")\n",
        "print(\"3. Check Wind Speed\")\n",
        "print(\"4. Exit\")\n",
        "\n",
        "# Capture the user's menu selection\n",
        "choice = input(\"Enter your choice (1-4): \")\n",
        "\n",
        "# Process the user's selection\n",
        "if choice == \"1\":\n",
        "    # Check Temperature\n",
        "    temp_input = input(\"Enter the current temperature (in °C): \")\n",
        "    if temp_input.isdigit() or (temp_input.startswith('-') and temp_input[1:].isdigit()):\n",
        "        temperature = int(temp_input)\n",
        "        if temperature < 15:\n",
        "            print(\"It’s cold – expect a chilly day.\")\n",
        "        elif temperature < 25:\n",
        "            print(\"It’s a pleasant day.\")\n",
        "        else:\n",
        "            print(\"It’s hot – stay cool!\")\n",
        "    else:\n",
        "        print(\"Invalid input. Please enter a numeric temperature.\")\n",
        "elif choice == \"2\":\n",
        "    # Check Humidity\n",
        "    humidity_input = input(\"Enter the current humidity (in %): \")\n",
        "    # You can add similar logic for humidity here.\n",
        "    print(\"Humidity functionality coming soon!\")\n",
        "elif choice == \"3\":\n",
        "    # Check Wind Speed\n",
        "    wind_input = input(\"Enter the current wind speed (in km/h): \")\n",
        "    # You can add similar logic for wind speed here.\n",
        "    print(\"Wind speed functionality coming soon!\")\n",
        "elif choice == \"4\":\n",
        "    print(\"Exiting the program. Have a great day!\")\n",
        "else:\n",
        "    print(\"Invalid choice. Please select a valid option.\")"
      ]
    }
  ]
}