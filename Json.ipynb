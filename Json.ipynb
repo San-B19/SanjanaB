{
  "nbformat": 4,
  "nbformat_minor": 0,
  "metadata": {
    "colab": {
      "provenance": [],
      "authorship_tag": "ABX9TyMV8Us64CNAirpq0lz+TxT3",
      "include_colab_link": true
    },
    "kernelspec": {
      "name": "python3",
      "display_name": "Python 3"
    },
    "language_info": {
      "name": "python"
    }
  },
  "cells": [
    {
      "cell_type": "markdown",
      "metadata": {
        "id": "view-in-github",
        "colab_type": "text"
      },
      "source": [
        "<a href=\"https://colab.research.google.com/github/San-B19/SanjanaB/blob/main/Json.ipynb\" target=\"_parent\"><img src=\"https://colab.research.google.com/assets/colab-badge.svg\" alt=\"Open In Colab\"/></a>"
      ]
    },
    {
      "cell_type": "code",
      "execution_count": 2,
      "metadata": {
        "colab": {
          "base_uri": "https://localhost:8080/"
        },
        "id": "xF0UzMlk6Nv7",
        "outputId": "5908b7ea-ad30-4210-8acb-e54189172489"
      },
      "outputs": [
        {
          "output_type": "stream",
          "name": "stdout",
          "text": [
            "Alice\n"
          ]
        }
      ],
      "source": [
        "# create the file first\n",
        "with open ('data.json', 'w') as f:\n",
        "  f.write('{\"name\": \"Alice\", \"age\": 25}')\n",
        "\n",
        "#Reading json from a file\n",
        "import json\n",
        "\n",
        "#example json file content: {\"name\": \"Alice\", \"age\": 25}\n",
        "with open('data.json', 'r') as file:\n",
        "\n",
        "  data = json.load(file)\n",
        "  print(data['name']) # output alice"
      ]
    },
    {
      "cell_type": "code",
      "source": [
        "#reading json from a string\n",
        "import json\n",
        "\n",
        "# Fixed: Added a colon after \"temperature\"\n",
        "json_str = '{\"city\": \"Port Louis\", \"temperature\":29}'\n",
        "data = json.loads(json_str)\n",
        "\n",
        "print(data['city']) # output Port Louis"
      ],
      "metadata": {
        "colab": {
          "base_uri": "https://localhost:8080/"
        },
        "id": "OQc6CMKtArKz",
        "outputId": "21aad936-4070-4b67-d200-efcafca6790f"
      },
      "execution_count": 4,
      "outputs": [
        {
          "output_type": "stream",
          "name": "stdout",
          "text": [
            "Port Louis\n"
          ]
        }
      ]
    },
    {
      "cell_type": "code",
      "source": [
        "# writing json to a file\n",
        "from google.colab import files\n",
        "\n",
        "\n",
        "import json\n",
        "\n",
        "data = {'name': 'Bob', 'age': 30}\n",
        "\n",
        "with open('output.json', 'w') as file:\n",
        "  json.dump(data, file, indent=4)\n",
        "files.download('output.json')"
      ],
      "metadata": {
        "colab": {
          "base_uri": "https://localhost:8080/",
          "height": 17
        },
        "id": "n78VHdZPBsfh",
        "outputId": "cc3284a7-fcd8-4fc7-9572-adf721de9563"
      },
      "execution_count": 7,
      "outputs": [
        {
          "output_type": "display_data",
          "data": {
            "text/plain": [
              "<IPython.core.display.Javascript object>"
            ],
            "application/javascript": [
              "\n",
              "    async function download(id, filename, size) {\n",
              "      if (!google.colab.kernel.accessAllowed) {\n",
              "        return;\n",
              "      }\n",
              "      const div = document.createElement('div');\n",
              "      const label = document.createElement('label');\n",
              "      label.textContent = `Downloading \"${filename}\": `;\n",
              "      div.appendChild(label);\n",
              "      const progress = document.createElement('progress');\n",
              "      progress.max = size;\n",
              "      div.appendChild(progress);\n",
              "      document.body.appendChild(div);\n",
              "\n",
              "      const buffers = [];\n",
              "      let downloaded = 0;\n",
              "\n",
              "      const channel = await google.colab.kernel.comms.open(id);\n",
              "      // Send a message to notify the kernel that we're ready.\n",
              "      channel.send({})\n",
              "\n",
              "      for await (const message of channel.messages) {\n",
              "        // Send a message to notify the kernel that we're ready.\n",
              "        channel.send({})\n",
              "        if (message.buffers) {\n",
              "          for (const buffer of message.buffers) {\n",
              "            buffers.push(buffer);\n",
              "            downloaded += buffer.byteLength;\n",
              "            progress.value = downloaded;\n",
              "          }\n",
              "        }\n",
              "      }\n",
              "      const blob = new Blob(buffers, {type: 'application/binary'});\n",
              "      const a = document.createElement('a');\n",
              "      a.href = window.URL.createObjectURL(blob);\n",
              "      a.download = filename;\n",
              "      div.appendChild(a);\n",
              "      a.click();\n",
              "      div.remove();\n",
              "    }\n",
              "  "
            ]
          },
          "metadata": {}
        },
        {
          "output_type": "display_data",
          "data": {
            "text/plain": [
              "<IPython.core.display.Javascript object>"
            ],
            "application/javascript": [
              "download(\"download_72edc584-d741-4128-a2f2-e18e00ee22f5\", \"output.json\", 36)"
            ]
          },
          "metadata": {}
        }
      ]
    },
    {
      "cell_type": "code",
      "source": [
        "#Writing json from a python dictionary to a string\n",
        "import json\n",
        "\n",
        "data = {'language': 'python', 'level': 'intermediate'}\n",
        "json_str = json.dumps(data)\n",
        "print(json_str) # output {\"language\": \"python\", \"level\": \"intermediate\""
      ],
      "metadata": {
        "colab": {
          "base_uri": "https://localhost:8080/"
        },
        "id": "1WvTQeLjCS9T",
        "outputId": "18a6ef16-89a3-4851-fe53-7425cde121c2"
      },
      "execution_count": 8,
      "outputs": [
        {
          "output_type": "stream",
          "name": "stdout",
          "text": [
            "{\"language\": \"python\", \"level\": \"intermediate\"}\n"
          ]
        }
      ]
    },
    {
      "cell_type": "code",
      "source": [
        "#fetching and parsing json from a web API\n",
        "import requests\n",
        "\n",
        "api_key = '2572248d0b97e1fbe00601a93ce27e4c'\n",
        "city = 'London'\n",
        "\n",
        "url = f'https://api.weatherapi.com/v1/current.json?key={api_key}&q={city}'\n",
        "response = requests.get(url)\n",
        "\n",
        "print(response.status_code)\n",
        "print(response.json())\n"
      ],
      "metadata": {
        "colab": {
          "base_uri": "https://localhost:8080/"
        },
        "id": "v4wRv9KFDnFF",
        "outputId": "e5a410e4-55ab-4e8f-f6d4-81f76e74f203"
      },
      "execution_count": 9,
      "outputs": [
        {
          "output_type": "stream",
          "name": "stdout",
          "text": [
            "403\n",
            "{'error': {'code': 2008, 'message': 'API key has been disabled.'}}\n"
          ]
        }
      ]
    }
  ]
}