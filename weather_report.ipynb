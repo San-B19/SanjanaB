{
  "nbformat": 4,
  "nbformat_minor": 0,
  "metadata": {
    "colab": {
      "provenance": [],
      "authorship_tag": "ABX9TyO8UR4Z5pGt5gLytyQlM7r5",
      "include_colab_link": true
    },
    "kernelspec": {
      "name": "python3",
      "display_name": "Python 3"
    },
    "language_info": {
      "name": "python"
    }
  },
  "cells": [
    {
      "cell_type": "markdown",
      "metadata": {
        "id": "view-in-github",
        "colab_type": "text"
      },
      "source": [
        "<a href=\"https://colab.research.google.com/github/San-B19/SanjanaB/blob/main/weather_report.ipynb\" target=\"_parent\"><img src=\"https://colab.research.google.com/assets/colab-badge.svg\" alt=\"Open In Colab\"/></a>"
      ]
    },
    {
      "cell_type": "code",
      "execution_count": 1,
      "metadata": {
        "colab": {
          "base_uri": "https://localhost:8080/"
        },
        "id": "25Mu3R6Mrg8F",
        "outputId": "bfe01c3c-dbbc-46d3-cc3a-551c563051a0"
      },
      "outputs": [
        {
          "output_type": "stream",
          "name": "stdout",
          "text": [
            "Enter the current temperature: 29\n",
            "It's hot today. Keep cool!\n"
          ]
        }
      ],
      "source": [
        "temperature = int(input(\"Enter the current temperature: \"))\n",
        "if temperature < 15:\n",
        "    print(\"It's quite cold today. Stay warm!\")\n",
        "elif temperature < 25:\n",
        "    print(\"The weather is pleasant today.\")\n",
        "else:\n",
        "    print(\"It's hot today. Keep cool!\")"
      ]
    },
    {
      "cell_type": "code",
      "source": [
        "temperature = int(input(\"Enter the current temperature: \"))\n",
        "is_rainy = input(\"Is it rainy? (yes/no): \").lower() == \"yes\"\n",
        "is_windy = input(\"Is it windy? (yes/no): \").lower() == \"yes\"\n",
        "\n",
        "if temperature < 15:\n",
        "    if is_rainy:\n",
        "        print(\"It's quite cold and rainy today. Stay warm and dry!\")\n",
        "    elif is_windy:\n",
        "        print(\"It's quite cold and windy today. Stay warm and wear layers!\")\n",
        "    else:\n",
        "        print(\"It's quite cold today. Stay warm!\")\n",
        "elif temperature < 25:\n",
        "    if is_rainy:\n",
        "        print(\"The weather is pleasant but rainy today. Take an umbrella!\")\n",
        "    elif is_windy:\n",
        "        print(\"The weather is pleasant but windy today. Consider wearing a jacket!\")\n",
        "    else:\n",
        "        print(\"The weather is pleasant today.\")\n",
        "else:\n",
        "    if is_rainy:\n",
        "        print(\"It's hot and rainy today. Stay cool and dry!\")\n",
        "    elif is_windy:\n",
        "        print(\"It's hot and windy today. Stay cool and hydrated!\")\n",
        "    else:\n",
        "        print(\"It's hot today. Keep cool!\")\n"
      ],
      "metadata": {
        "colab": {
          "base_uri": "https://localhost:8080/"
        },
        "id": "OYZUKdnitJ4u",
        "outputId": "a06fdeee-a9f6-4be9-b657-34226471f197"
      },
      "execution_count": 2,
      "outputs": [
        {
          "output_type": "stream",
          "name": "stdout",
          "text": [
            "Enter the current temperature: 34\n",
            "Is it rainy? (yes/no): no\n",
            "Is it windy? (yes/no): yes\n",
            "It's hot and windy today. Stay cool and hydrated!\n"
          ]
        }
      ]
    },
    {
      "cell_type": "code",
      "source": [
        "temperature = int(input(\"Enter the current temperature: \"))\n",
        "humidity = int(input(\"Enter the current humidity percentage: \"))\n",
        "wind_speed = int(input(\"Enter the current wind speed (km/h): \"))\n",
        "is_rainy = input(\"Is it rainy? (yes/no): \").lower() == \"yes\"\n",
        "\n",
        "\n",
        "if temperature < 15:\n",
        "    if is_rainy:\n",
        "        print(\"It's quite cold and rainy today. Stay warm and dry!\")\n",
        "    elif wind_speed > 30:\n",
        "        print(\"It's quite cold and very windy today. Stay warm and wear layers!\")\n",
        "    else:\n",
        "        print(\"It's quite cold today. Stay warm!\")\n",
        "elif temperature < 25:\n",
        "    if is_rainy:\n",
        "        print(\"The weather is pleasant but rainy today. Take an umbrella!\")\n",
        "    elif wind_speed > 20:\n",
        "        print(\"The weather is pleasant but windy today. Consider wearing a jacket!\")\n",
        "    elif humidity > 80:\n",
        "        print(\"The weather is pleasantly warm but humid today.\")\n",
        "    else:\n",
        "        print(\"The weather is pleasant today.\")\n",
        "else:\n",
        "    if is_rainy:\n",
        "        print(\"It's hot and rainy today. Stay cool and dry!\")\n",
        "    elif wind_speed > 15:\n",
        "        print(\"It's hot and windy today. Stay cool and hydrated!\")\n",
        "    elif humidity > 70:\n",
        "        print(\"It's hot and humid today. Stay cool and hydrated!\")\n",
        "    else:\n",
        "        print(\"It's hot today. Keep cool!\")\n"
      ],
      "metadata": {
        "colab": {
          "base_uri": "https://localhost:8080/"
        },
        "id": "43Q0k_3pyRQT",
        "outputId": "9c8c51e8-6133-4976-fe3e-aee0bd498e5e"
      },
      "execution_count": 3,
      "outputs": [
        {
          "output_type": "stream",
          "name": "stdout",
          "text": [
            "Enter the current temperature: 29\n",
            "Enter the current humidity percentage: 80\n",
            "Enter the current wind speed (km/h): 39\n",
            "Is it rainy? (yes/no): no\n",
            "It's hot and windy today. Stay cool and hydrated!\n"
          ]
        }
      ]
    }
  ]
}