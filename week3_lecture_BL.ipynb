{
  "nbformat": 4,
  "nbformat_minor": 0,
  "metadata": {
    "colab": {
      "provenance": [],
      "authorship_tag": "ABX9TyMZ0S/VVRyDttv0lBK40Kz9",
      "include_colab_link": true
    },
    "kernelspec": {
      "name": "python3",
      "display_name": "Python 3"
    },
    "language_info": {
      "name": "python"
    }
  },
  "cells": [
    {
      "cell_type": "markdown",
      "metadata": {
        "id": "view-in-github",
        "colab_type": "text"
      },
      "source": [
        "<a href=\"https://colab.research.google.com/github/San-B19/SanjanaB/blob/main/week3_lecture_BL.ipynb\" target=\"_parent\"><img src=\"https://colab.research.google.com/assets/colab-badge.svg\" alt=\"Open In Colab\"/></a>"
      ]
    },
    {
      "cell_type": "code",
      "execution_count": null,
      "metadata": {
        "colab": {
          "base_uri": "https://localhost:8080/"
        },
        "id": "-ORnNh-9lY7L",
        "outputId": "8226fed0-3f40-447f-f817-8f8aad9a29b5"
      },
      "outputs": [
        {
          "output_type": "stream",
          "name": "stdout",
          "text": [
            "Welcome to the weather programme\n",
            "enter the current temperature:24\n",
            "you entered 24 degrees.\n"
          ]
        }
      ],
      "source": [
        "print(\"Welcome to the weather programme\")\n",
        "temp = input(\"enter the current temperature:\")\n",
        "print (\"you entered\", temp, \"degrees.\")"
      ]
    },
    {
      "cell_type": "code",
      "source": [
        "temperature = input(\"Enter the current temperature:\")\n",
        "temperature = int(temperature)\n",
        "if temperature < 20:\n",
        "  print(\"It's chilly!\")\n",
        "else:\n",
        "  print(\"it's warm!\")\n",
        "\n"
      ],
      "metadata": {
        "colab": {
          "base_uri": "https://localhost:8080/"
        },
        "id": "ue8hSqnanQvL",
        "outputId": "1c61b878-343b-416a-9fea-e77b9c4ec330"
      },
      "execution_count": null,
      "outputs": [
        {
          "output_type": "stream",
          "name": "stdout",
          "text": [
            "Enter the current temperature:23\n",
            "it's warm!\n"
          ]
        }
      ]
    },
    {
      "cell_type": "code",
      "source": [
        "temperature = input(\"Enter the current temperature:\")\n",
        "temperature = int(temperature)\n",
        "is_raining = False\n",
        "if temperature > 20 and not is_raining:\n",
        "  print (\"Great day for a picnic!\")"
      ],
      "metadata": {
        "colab": {
          "base_uri": "https://localhost:8080/"
        },
        "id": "GXv4nG3rtLUz",
        "outputId": "b2a60d3a-973e-4d49-aa3a-13b532c264e3"
      },
      "execution_count": 2,
      "outputs": [
        {
          "name": "stdout",
          "output_type": "stream",
          "text": [
            "Enter the current temperature:20\n"
          ]
        }
      ]
    },
    {
      "cell_type": "code",
      "source": [
        "temperature = int(input(\"enter current temperature: \"))\n",
        "if temperature < 15:\n",
        "  print (\"it's quite a cold day\")\n",
        "elif temperature < 25:\n",
        "  print (\"it's a pleasant day\")\n",
        "else:\n",
        "  print (\"it's a hot day\")"
      ],
      "metadata": {
        "colab": {
          "base_uri": "https://localhost:8080/"
        },
        "id": "Vlian-d_umwr",
        "outputId": "160ebacb-19d1-48eb-b21c-4e995484b640"
      },
      "execution_count": null,
      "outputs": [
        {
          "output_type": "stream",
          "name": "stdout",
          "text": [
            "enter current temperature: 26\n",
            "it's a hot day\n"
          ]
        }
      ]
    },
    {
      "cell_type": "code",
      "source": [
        "print(\"Menu:\")\n",
        "print(\"1. show greeting\")\n",
        "print(\"2. display farewell\")\n",
        "choice = input(\"Enter your choice (1 or 2): \")\n",
        "if choice == \"1\":\n",
        "  print(\"Hello! Welcome to  your programme.\")\n",
        "elif choice == \"2\":\n",
        "  print(\"Goodbye! Have a great day.\")\n",
        "else:\n",
        "  print(\"Invalid choice. Please enter 1 or 2.\")"
      ],
      "metadata": {
        "colab": {
          "base_uri": "https://localhost:8080/"
        },
        "id": "uNW8QXD4xfRW",
        "outputId": "f58803e1-4767-4029-f253-9758cfd0d2b1"
      },
      "execution_count": null,
      "outputs": [
        {
          "output_type": "stream",
          "name": "stdout",
          "text": [
            "Menu:\n",
            "1. show greeting\n",
            "2. display farewell\n",
            "Enter your choice (1 or 2): 3\n",
            "Invalid choice. Please enter 1 or 2.\n"
          ]
        }
      ]
    },
    {
      "cell_type": "code",
      "source": [
        "number = int(input(\"Enter a number: \"))\n",
        "if number > 10:\n",
        "  print(\"The number is high.\")\n",
        "else:\n",
        "  print(\"The number is low.\")"
      ],
      "metadata": {
        "colab": {
          "base_uri": "https://localhost:8080/"
        },
        "id": "Fsbly8bZfYrj",
        "outputId": "65225777-3f55-48eb-8ee0-620a9213901f"
      },
      "execution_count": 3,
      "outputs": [
        {
          "output_type": "stream",
          "name": "stdout",
          "text": [
            "Enter a number: 12\n",
            "The number is high.\n"
          ]
        }
      ]
    }
  ]
}