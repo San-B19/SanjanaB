{
  "nbformat": 4,
  "nbformat_minor": 0,
  "metadata": {
    "colab": {
      "provenance": [],
      "authorship_tag": "ABX9TyNacWLW+9iMdaSEe/XeudCe",
      "include_colab_link": true
    },
    "kernelspec": {
      "name": "python3",
      "display_name": "Python 3"
    },
    "language_info": {
      "name": "python"
    }
  },
  "cells": [
    {
      "cell_type": "markdown",
      "metadata": {
        "id": "view-in-github",
        "colab_type": "text"
      },
      "source": [
        "<a href=\"https://colab.research.google.com/github/San-B19/SanjanaB/blob/main/week5_BL_mod1.ipynb\" target=\"_parent\"><img src=\"https://colab.research.google.com/assets/colab-badge.svg\" alt=\"Open In Colab\"/></a>"
      ]
    },
    {
      "cell_type": "code",
      "execution_count": null,
      "metadata": {
        "id": "a81eYn61d4O9"
      },
      "outputs": [],
      "source": [
        "# Empty list\n",
        "my_list = []\n",
        "\n",
        "# List of numbers\n",
        "numbers = [1, 2, 3, 4, 5]\n",
        "\n",
        "# List of strings\n",
        "colours = [\"red\", \"green\", \"blue\"]\n",
        "\n",
        "# Mixed data types\n",
        "mixed = [42, \"hello\", True, 3.14]"
      ]
    },
    {
      "cell_type": "code",
      "source": [
        "students = [\"josh\", \"trish\", \"nelly\", \"ramiz\"]\n",
        "# adding items\n",
        "students.append(\"sally\")\n",
        "print(students)\n",
        "\n",
        "students.insert(2, \"sam\")\n",
        "print(students)\n",
        "\n",
        "# removing items\n",
        "students.remove(\"josh\")\n",
        "print(students)\n",
        "\n",
        "last_item = students.pop()\n",
        "print(last_item)\n",
        "print(students)\n",
        "\n",
        "# modify elements\n",
        "students[0] = \"sanjana\"\n",
        "print(students)\n",
        "\n",
        "# Length of list\n",
        "length = len(students)\n",
        "print(length)\n",
        "\n",
        "# Checking membership\n",
        "has_sanjana = \"sanjana\" in students\n",
        "has_sanyukta = \"sanyukta\" in students\n",
        "print(has_sanjana)\n",
        "print(has_sanyukta)\n",
        "\n",
        "students.sort()\n",
        "print(students)"
      ],
      "metadata": {
        "colab": {
          "base_uri": "https://localhost:8080/"
        },
        "id": "AgTlrqIuiCwb",
        "outputId": "717b11d5-acb0-4a37-a97c-31a3ea9e320c"
      },
      "execution_count": 10,
      "outputs": [
        {
          "output_type": "stream",
          "name": "stdout",
          "text": [
            "['josh', 'trish', 'nelly', 'ramiz', 'sally']\n",
            "['josh', 'trish', 'sam', 'nelly', 'ramiz', 'sally']\n",
            "['trish', 'sam', 'nelly', 'ramiz', 'sally']\n",
            "sally\n",
            "['trish', 'sam', 'nelly', 'ramiz']\n",
            "['sanjana', 'sam', 'nelly', 'ramiz']\n",
            "4\n",
            "True\n",
            "False\n",
            "['nelly', 'ramiz', 'sam', 'sanjana']\n"
          ]
        }
      ]
    },
    {
      "cell_type": "code",
      "source": [
        "# Example: Simple to-do list application\n",
        "todo_list = []\n",
        "\n",
        "# Add tasks\n",
        "todo_list.append(\"Complete assignment\")\n",
        "todo_list.append(\"Read chapter 5\")\n",
        "todo_list.append(\"Prepare for quiz\")\n",
        "\n",
        "# Mark a task as complete (remove it)\n",
        "todo_list.remove(\"Read chapter 5\")\n",
        "\n",
        "# Current tasks: [\"Complete assignment\", \"Prepare for quiz\"]"
      ],
      "metadata": {
        "id": "HM4xgFVwiWN3"
      },
      "execution_count": 11,
      "outputs": []
    },
    {
      "cell_type": "code",
      "source": [
        "# prompt: # Example: Simple to-do list application\n",
        "# todo_list = []\n",
        "# # Add tasks\n",
        "# todo_list.append(\"Complete assignment\")\n",
        "# todo_list.append(\"Read chapter 5\")\n",
        "# todo_list.append(\"Prepare for quiz\")\n",
        "# # Mark a task as complete (remove it)\n",
        "# todo_list.remove(\"Read chapter 5\")\n",
        "# # Current tasks: [\"Complete assignment\", \"Prepare for quiz\"]\n",
        "\n",
        "# Example: Simple to-do list application\n",
        "todo_list = []\n",
        "\n",
        "# Add tasks\n",
        "todo_list.append(\"Complete assignment\")\n",
        "todo_list.append(\"Read chapter 5\")\n",
        "todo_list.append(\"Prepare for quiz\")\n",
        "\n",
        "# Search for a task\n",
        "search_task = \"Read chapter 5\"\n",
        "if search_task in todo_list:\n",
        "  print(f\"Task '{search_task}' found in the to-do list.\")\n",
        "else:\n",
        "  print(f\"Task '{search_task}' not found in the to-do list.\")\n",
        "\n",
        "# Mark a task as complete (remove it)\n",
        "todo_list.remove(\"Read chapter 5\")\n",
        "\n",
        "# Current tasks: [\"Complete assignment\", \"Prepare for quiz\"]\n",
        "print(todo_list)\n",
        "\n",
        "todo_list.insert(1, \"prepare lunch\")\n",
        "print(todo_list)\n"
      ],
      "metadata": {
        "colab": {
          "base_uri": "https://localhost:8080/"
        },
        "id": "0An-L0Xgnrpt",
        "outputId": "de05a844-c877-4f88-b2b7-cca4dac144a1"
      },
      "execution_count": 13,
      "outputs": [
        {
          "output_type": "stream",
          "name": "stdout",
          "text": [
            "Task 'Read chapter 5' found in the to-do list.\n",
            "['Complete assignment', 'Prepare for quiz']\n",
            "['Complete assignment', 'prepare lunch', 'Prepare for quiz']\n"
          ]
        }
      ]
    },
    {
      "cell_type": "code",
      "source": [],
      "metadata": {
        "id": "4vsWM-JIoFyd"
      },
      "execution_count": null,
      "outputs": []
    }
  ]
}